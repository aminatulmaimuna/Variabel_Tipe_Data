{
 "cells": [
  {
   "cell_type": "markdown",
   "id": "159f26c3",
   "metadata": {},
   "source": [
    "<h1>Variabel dan Tipe Data</h1><hr>\n",
    "Tipe Data Pada Python addalah:\n",
    "<o1>\n",
    "    <li>Float - (float)</li>\n",
    "    <li>String - (str)</li>\n",
    "    <li>Boolean - (bool)</li>\n",
    "    <li>Integer - (int)</li>\n",
    "</o1><hr>\n",
    "<font color=\"blue\"><i>Aturan Penamaan Vaariabel:</i></font> \n",
    "<ul>\n",
    "    <li>Tidak boleh menggunakan spasi<li>\n",
    "    <li>Bersifat case sensitive=> A != a</li> \n",
    "    <li>Terdiri dari huruf, angka dan karakter _ (undercore)</li>\n",
    "    <li>Diawali undercore atau huruf</li>\n",
    "    <li>Tidak boleh menggunakan reserveed keyword</li>\n",
    "</ul>    "
   ]
  },
  {
   "cell_type": "code",
   "execution_count": 2,
   "id": "d81bde7b",
   "metadata": {},
   "outputs": [
    {
     "name": "stdout",
     "output_type": "stream",
     "text": [
      "100\n",
      "50.6\n",
      "1\n",
      "True\n"
     ]
    }
   ],
   "source": [
    "data_integer = 100\n",
    "data_float = 50.6\n",
    "data_string =\"1\"\n",
    "data_boolean = True\n",
    "\n",
    "data_string\n",
    "print(data_integer)\n",
    "print(data_float)\n",
    "print(data_string)\n",
    "print(data_boolean)\n",
    "\n",
    "\n",
    "\n",
    "\n"
   ]
  },
  {
   "cell_type": "code",
   "execution_count": 3,
   "id": "cd3789a4",
   "metadata": {},
   "outputs": [
    {
     "name": "stdout",
     "output_type": "stream",
     "text": [
      "<class 'int'>\n",
      "<class 'float'>\n",
      "<class 'str'>\n",
      "<class 'bool'>\n"
     ]
    }
   ],
   "source": [
    "print(type(data_integer))\n",
    "print(type(data_float))\n",
    "print(type(data_string))\n",
    "print(type(data_boolean))"
   ]
  },
  {
   "cell_type": "markdown",
   "id": "4ad66bb7",
   "metadata": {},
   "source": [
    "Konversi Tipe Data dari integer ke (String,Float,Boolean)</h3>"
   ]
  },
  {
   "cell_type": "code",
   "execution_count": 4,
   "id": "dad82878",
   "metadata": {},
   "outputs": [
    {
     "name": "stdout",
     "output_type": "stream",
     "text": [
      "Isi Bilangan 14\n",
      "Isi Bilangan 26\n",
      "46\n"
     ]
    }
   ],
   "source": [
    "bil1 = input(\"Isi Bilangan 1\")\n",
    "bil2 = input(\"Isi Bilangan 2\")\n",
    "hasil = bil1+bil2\n",
    "print(hasil)"
   ]
  },
  {
   "cell_type": "markdown",
   "id": "cc6d9735",
   "metadata": {},
   "source": []
  },
  {
   "cell_type": "code",
   "execution_count": 5,
   "id": "653e9d19",
   "metadata": {},
   "outputs": [
    {
     "name": "stdout",
     "output_type": "stream",
     "text": [
      "1\n",
      "50\n",
      "1\n",
      "<class 'int'>\n",
      "<class 'int'>\n",
      "<class 'int'>\n"
     ]
    }
   ],
   "source": [
    "string_to_int = int(data_string)\n",
    "float_to_int = int(data_float)\n",
    "bool_to_int = int(data_boolean)\n",
    "\n",
    "print(string_to_int)\n",
    "print(float_to_int)\n",
    "print(bool_to_int)\n",
    "\n",
    "print(type(string_to_int))\n",
    "print(type(float_to_int))\n",
    "print(type(bool_to_int))\n"
   ]
  },
  {
   "cell_type": "raw",
   "id": "462a6dfa",
   "metadata": {},
   "source": []
  },
  {
   "cell_type": "code",
   "execution_count": 6,
   "id": "348333d1",
   "metadata": {},
   "outputs": [
    {
     "name": "stdout",
     "output_type": "stream",
     "text": [
      "1.0\n",
      "50.6\n",
      "1.0\n",
      "<class 'float'>\n",
      "<class 'float'>\n",
      "<class 'float'>\n"
     ]
    }
   ],
   "source": [
    "string_to_float = float(data_string)\n",
    "integer_to_float = float(data_float)\n",
    "bool_to_float = float(data_boolean)\n",
    "\n",
    "print(string_to_float)\n",
    "print(integer_to_float)\n",
    "print(bool_to_float)\n",
    "\n",
    "print(type(string_to_float))\n",
    "print(type(integer_to_float))\n",
    "print(type(bool_to_float))\n"
   ]
  },
  {
   "cell_type": "code",
   "execution_count": 7,
   "id": "6c1f5b53",
   "metadata": {},
   "outputs": [
    {
     "name": "stdout",
     "output_type": "stream",
     "text": [
      "100\n",
      "50.6\n",
      "True\n",
      "<class 'str'>\n",
      "<class 'str'>\n",
      "<class 'str'>\n"
     ]
    }
   ],
   "source": [
    "integer_to_string = str(data_integer)\n",
    "float_to_string = str(data_float)\n",
    "bool_to_string = str(data_boolean)\n",
    "\n",
    "print(integer_to_string)\n",
    "print(float_to_string)\n",
    "print(bool_to_string)\n",
    "\n",
    "print(type(integer_to_string))\n",
    "print(type(float_to_string))\n",
    "print(type(bool_to_string))\n"
   ]
  },
  {
   "cell_type": "code",
   "execution_count": 10,
   "id": "2d283170",
   "metadata": {},
   "outputs": [
    {
     "name": "stdout",
     "output_type": "stream",
     "text": [
      "True\n",
      "True\n",
      "True\n",
      "<class 'bool'>\n",
      "<class 'bool'>\n",
      "<class 'bool'>\n"
     ]
    }
   ],
   "source": [
    "integer_to_boolean = bool(data_integer)\n",
    "float_to_boolean = bool(data_float)\n",
    "string_to_boolean = bool(data_string)\n",
    "\n",
    "print(integer_to_boolean)\n",
    "print(float_to_boolean)\n",
    "print(string_to_boolean)\n",
    "\n",
    "print(type(integer_to_boolean))\n",
    "print(type(float_to_boolean))\n",
    "print(type(string_to_boolean))\n"
   ]
  }
 ],
 "metadata": {
  "kernelspec": {
   "display_name": "Python 3 (ipykernel)",
   "language": "python",
   "name": "python3"
  },
  "language_info": {
   "codemirror_mode": {
    "name": "ipython",
    "version": 3
   },
   "file_extension": ".py",
   "mimetype": "text/x-python",
   "name": "python",
   "nbconvert_exporter": "python",
   "pygments_lexer": "ipython3",
   "version": "3.9.12"
  }
 },
 "nbformat": 4,
 "nbformat_minor": 5
}
